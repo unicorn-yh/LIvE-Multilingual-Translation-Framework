{
 "cells": [
  {
   "cell_type": "code",
   "execution_count": 25,
   "metadata": {},
   "outputs": [
    {
     "name": "stdout",
     "output_type": "stream",
     "text": [
      "                                                 English\n",
      "0      Almost all living organisms from humans to bac...\n",
      "1      In most animals, the master circadian clock in...\n",
      "2      Extensive intercellular coupling between these...\n",
      "3      These aims are particularly challenging to acc...\n",
      "4      Not surprisingly, the fly circadian clock, gen...\n",
      "...                                                  ...\n",
      "10067  Interestingly, both “coelenterates” and  bilat...\n",
      "10068  Among lophotro chozoans, this is the case for ...\n",
      "10069  The deuterostomes, with an  unresolved phyloge...\n",
      "10070  The most dramatic changes occurred in the dors...\n",
      "10071  Among birds  the largest brains are found in p...\n",
      "\n",
      "[10072 rows x 1 columns]\n"
     ]
    }
   ],
   "source": [
    "import re\n",
    "import csv\n",
    "import pandas as pd\n",
    "\n",
    "# Function to group every three sentences\n",
    "def group_sentences(data, n):\n",
    "    return [' '.join(data[i:i+n]) for i in range(0, len(data), n)]\n",
    "\n",
    "number_of_articles = 24\n",
    "sentences = []\n",
    "passage = ''\n",
    "\n",
    "# Processing each article\n",
    "for no in range(1, number_of_articles + 1):\n",
    "    with open(f'Article{no}.txt', \"r\", encoding='utf-8') as file:\n",
    "        content = file.read()\n",
    "\n",
    "    # Clean content by removing text within parentheses and replace new lines with spaces\n",
    "    content = re.sub(r'\\(.*?\\)', '', content.replace('\\n', ' '))\n",
    "    passage += content\n",
    "\n",
    "# Split content into sentences by periods or question marks\n",
    "# sentences = passage.split('. ')\n",
    "sentences = re.split(r'(?<=[.?])\\s*', passage)\n",
    "# print(sentences)\n",
    "# Filter out empty sentences in case of multiple spaces\n",
    "sentences = [sentence.strip() for sentence in sentences if sentence]\n",
    "\n",
    "# Group every three sentences\n",
    "grouped_sentences = group_sentences(sentences, 3)\n",
    "\n",
    "# Write to CSV file\n",
    "with open('data.csv', 'w', newline='', encoding='utf-8') as df:\n",
    "    writer = csv.writer(df)\n",
    "    writer.writerow(['English'])\n",
    "    for group in grouped_sentences:\n",
    "        writer.writerow([group])\n",
    "\n",
    "# Read the CSV file into a pandas DataFrame\n",
    "df = pd.read_csv('data.csv')\n",
    "print(df)\n"
   ]
  },
  {
   "cell_type": "code",
   "execution_count": null,
   "metadata": {},
   "outputs": [],
   "source": []
  }
 ],
 "metadata": {
  "kernelspec": {
   "display_name": "Python 3",
   "language": "python",
   "name": "python3"
  },
  "language_info": {
   "codemirror_mode": {
    "name": "ipython",
    "version": 3
   },
   "file_extension": ".py",
   "mimetype": "text/x-python",
   "name": "python",
   "nbconvert_exporter": "python",
   "pygments_lexer": "ipython3",
   "version": "3.12.0"
  }
 },
 "nbformat": 4,
 "nbformat_minor": 2
}
